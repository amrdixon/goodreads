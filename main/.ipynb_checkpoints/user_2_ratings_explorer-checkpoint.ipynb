{
 "cells": [
  {
   "cell_type": "markdown",
   "metadata": {},
   "source": [
    "# Goodreads Data User #2 Analysis"
   ]
  },
  {
   "cell_type": "markdown",
   "metadata": {},
   "source": [
    "## Initial Data Exploration"
   ]
  },
  {
   "cell_type": "code",
   "execution_count": 1,
   "metadata": {},
   "outputs": [
    {
     "name": "stdout",
     "output_type": "stream",
     "text": [
      "Lookign at the first few rows: \n"
     ]
    },
    {
     "data": {
      "text/html": [
       "<div>\n",
       "<style scoped>\n",
       "    .dataframe tbody tr th:only-of-type {\n",
       "        vertical-align: middle;\n",
       "    }\n",
       "\n",
       "    .dataframe tbody tr th {\n",
       "        vertical-align: top;\n",
       "    }\n",
       "\n",
       "    .dataframe thead th {\n",
       "        text-align: right;\n",
       "    }\n",
       "</style>\n",
       "<table border=\"1\" class=\"dataframe\">\n",
       "  <thead>\n",
       "    <tr style=\"text-align: right;\">\n",
       "      <th></th>\n",
       "      <th>Book Id</th>\n",
       "      <th>Title</th>\n",
       "      <th>Author</th>\n",
       "      <th>Author l-f</th>\n",
       "      <th>Additional Authors</th>\n",
       "      <th>ISBN</th>\n",
       "      <th>ISBN13</th>\n",
       "      <th>My Rating</th>\n",
       "      <th>Average Rating</th>\n",
       "      <th>Publisher</th>\n",
       "      <th>...</th>\n",
       "      <th>Private Notes</th>\n",
       "      <th>Read Count</th>\n",
       "      <th>Recommended For</th>\n",
       "      <th>Recommended By</th>\n",
       "      <th>Owned Copies</th>\n",
       "      <th>Original Purchase Date</th>\n",
       "      <th>Original Purchase Location</th>\n",
       "      <th>Condition</th>\n",
       "      <th>Condition Description</th>\n",
       "      <th>BCID</th>\n",
       "    </tr>\n",
       "  </thead>\n",
       "  <tbody>\n",
       "    <tr>\n",
       "      <th>0</th>\n",
       "      <td>13581476</td>\n",
       "      <td>FLCL Omnibus</td>\n",
       "      <td>Gainax</td>\n",
       "      <td>Gainax, Gainax</td>\n",
       "      <td>Hajime Ueda</td>\n",
       "      <td>1595828680</td>\n",
       "      <td>9.781596e+12</td>\n",
       "      <td>0</td>\n",
       "      <td>3.88</td>\n",
       "      <td>Dark Horse Comics</td>\n",
       "      <td>...</td>\n",
       "      <td>NaN</td>\n",
       "      <td>1</td>\n",
       "      <td>NaN</td>\n",
       "      <td>NaN</td>\n",
       "      <td>0</td>\n",
       "      <td>NaN</td>\n",
       "      <td>NaN</td>\n",
       "      <td>NaN</td>\n",
       "      <td>NaN</td>\n",
       "      <td>NaN</td>\n",
       "    </tr>\n",
       "    <tr>\n",
       "      <th>1</th>\n",
       "      <td>34128219</td>\n",
       "      <td>La Belle Sauvage (The Book of Dust, #1)</td>\n",
       "      <td>Philip Pullman</td>\n",
       "      <td>Pullman, Philip</td>\n",
       "      <td>NaN</td>\n",
       "      <td>0375815309</td>\n",
       "      <td>9.780376e+12</td>\n",
       "      <td>4</td>\n",
       "      <td>4.20</td>\n",
       "      <td>Alfred A. Knopf</td>\n",
       "      <td>...</td>\n",
       "      <td>NaN</td>\n",
       "      <td>1</td>\n",
       "      <td>NaN</td>\n",
       "      <td>NaN</td>\n",
       "      <td>0</td>\n",
       "      <td>NaN</td>\n",
       "      <td>NaN</td>\n",
       "      <td>NaN</td>\n",
       "      <td>NaN</td>\n",
       "      <td>NaN</td>\n",
       "    </tr>\n",
       "    <tr>\n",
       "      <th>2</th>\n",
       "      <td>4025275</td>\n",
       "      <td>War's Unwomanly Face</td>\n",
       "      <td>Svetlana Alexievich</td>\n",
       "      <td>Alexievich, Svetlana</td>\n",
       "      <td>NaN</td>\n",
       "      <td>5010004941</td>\n",
       "      <td>9.785010e+12</td>\n",
       "      <td>5</td>\n",
       "      <td>4.52</td>\n",
       "      <td>Progress Publishers</td>\n",
       "      <td>...</td>\n",
       "      <td>NaN</td>\n",
       "      <td>1</td>\n",
       "      <td>NaN</td>\n",
       "      <td>NaN</td>\n",
       "      <td>0</td>\n",
       "      <td>NaN</td>\n",
       "      <td>NaN</td>\n",
       "      <td>NaN</td>\n",
       "      <td>NaN</td>\n",
       "      <td>NaN</td>\n",
       "    </tr>\n",
       "    <tr>\n",
       "      <th>3</th>\n",
       "      <td>36521370</td>\n",
       "      <td>Cherry</td>\n",
       "      <td>Nico Walker</td>\n",
       "      <td>Walker, Nico</td>\n",
       "      <td>NaN</td>\n",
       "      <td>178733094X</td>\n",
       "      <td>9.781787e+12</td>\n",
       "      <td>0</td>\n",
       "      <td>4.02</td>\n",
       "      <td>Jonathan Cape</td>\n",
       "      <td>...</td>\n",
       "      <td>NaN</td>\n",
       "      <td>0</td>\n",
       "      <td>NaN</td>\n",
       "      <td>NaN</td>\n",
       "      <td>0</td>\n",
       "      <td>NaN</td>\n",
       "      <td>NaN</td>\n",
       "      <td>NaN</td>\n",
       "      <td>NaN</td>\n",
       "      <td>NaN</td>\n",
       "    </tr>\n",
       "    <tr>\n",
       "      <th>4</th>\n",
       "      <td>15177</td>\n",
       "      <td>Bridge of Birds (The Chronicles of Master Li a...</td>\n",
       "      <td>Barry Hughart</td>\n",
       "      <td>Hughart, Barry</td>\n",
       "      <td>NaN</td>\n",
       "      <td>0345321383</td>\n",
       "      <td>9.780345e+12</td>\n",
       "      <td>0</td>\n",
       "      <td>4.29</td>\n",
       "      <td>Del Rey</td>\n",
       "      <td>...</td>\n",
       "      <td>NaN</td>\n",
       "      <td>0</td>\n",
       "      <td>NaN</td>\n",
       "      <td>NaN</td>\n",
       "      <td>0</td>\n",
       "      <td>NaN</td>\n",
       "      <td>NaN</td>\n",
       "      <td>NaN</td>\n",
       "      <td>NaN</td>\n",
       "      <td>NaN</td>\n",
       "    </tr>\n",
       "  </tbody>\n",
       "</table>\n",
       "<p>5 rows × 31 columns</p>\n",
       "</div>"
      ],
      "text/plain": [
       "    Book Id                                              Title  \\\n",
       "0  13581476                                       FLCL Omnibus   \n",
       "1  34128219            La Belle Sauvage (The Book of Dust, #1)   \n",
       "2   4025275                               War's Unwomanly Face   \n",
       "3  36521370                                             Cherry   \n",
       "4     15177  Bridge of Birds (The Chronicles of Master Li a...   \n",
       "\n",
       "                Author            Author l-f Additional Authors        ISBN  \\\n",
       "0               Gainax        Gainax, Gainax        Hajime Ueda  1595828680   \n",
       "1       Philip Pullman       Pullman, Philip                NaN  0375815309   \n",
       "2  Svetlana Alexievich  Alexievich, Svetlana                NaN  5010004941   \n",
       "3          Nico Walker          Walker, Nico                NaN  178733094X   \n",
       "4        Barry Hughart        Hughart, Barry                NaN  0345321383   \n",
       "\n",
       "         ISBN13  My Rating  Average Rating            Publisher  ...   \\\n",
       "0  9.781596e+12          0            3.88    Dark Horse Comics  ...    \n",
       "1  9.780376e+12          4            4.20      Alfred A. Knopf  ...    \n",
       "2  9.785010e+12          5            4.52  Progress Publishers  ...    \n",
       "3  9.781787e+12          0            4.02        Jonathan Cape  ...    \n",
       "4  9.780345e+12          0            4.29              Del Rey  ...    \n",
       "\n",
       "  Private Notes  Read Count  Recommended For  Recommended By Owned Copies  \\\n",
       "0           NaN           1              NaN             NaN            0   \n",
       "1           NaN           1              NaN             NaN            0   \n",
       "2           NaN           1              NaN             NaN            0   \n",
       "3           NaN           0              NaN             NaN            0   \n",
       "4           NaN           0              NaN             NaN            0   \n",
       "\n",
       "  Original Purchase Date Original Purchase Location Condition  \\\n",
       "0                    NaN                        NaN       NaN   \n",
       "1                    NaN                        NaN       NaN   \n",
       "2                    NaN                        NaN       NaN   \n",
       "3                    NaN                        NaN       NaN   \n",
       "4                    NaN                        NaN       NaN   \n",
       "\n",
       "  Condition Description  BCID  \n",
       "0                   NaN   NaN  \n",
       "1                   NaN   NaN  \n",
       "2                   NaN   NaN  \n",
       "3                   NaN   NaN  \n",
       "4                   NaN   NaN  \n",
       "\n",
       "[5 rows x 31 columns]"
      ]
     },
     "execution_count": 1,
     "metadata": {},
     "output_type": "execute_result"
    }
   ],
   "source": [
    "#Import useful libraries and open the file\n",
    "import pandas as pd #dataframe organization\n",
    "import os\n",
    "import numpy as np\n",
    "import seaborn as sns #stats plotting toolbox\n",
    "from scipy import stats\n",
    "import matplotlib.pyplot as plt #plotting\n",
    "import util #my library with some useful functions\n",
    "from sklearn.model_selection import train_test_split\n",
    "from sklearn.metrics import precision_score #classifier performance\n",
    "from sklearn.metrics import recall_score #classifier performance\n",
    "from sklearn.tree import DecisionTreeClassifier\n",
    "\n",
    "\n",
    "#Read in a user's file\n",
    "test_df = pd.read_csv(\"../input/goodreads_library_export_user2.csv\", encoding = \"ISO-8859-1\")\n",
    "\n",
    "print('Lookign at the first few rows: ')\n",
    "test_df.head()\n",
    "\n"
   ]
  },
  {
   "cell_type": "code",
   "execution_count": 2,
   "metadata": {},
   "outputs": [
    {
     "name": "stdout",
     "output_type": "stream",
     "text": [
      "Number of data total data points:  570\n",
      "Number of features for each data point:  31\n",
      "\n",
      "A list of all columns: \n",
      "Index(['Book Id', 'Title', 'Author', 'Author l-f', 'Additional Authors',\n",
      "       'ISBN', 'ISBN13', 'My Rating', 'Average Rating', 'Publisher', 'Binding',\n",
      "       'Number of Pages', 'Year Published', 'Original Publication Year',\n",
      "       'Date Read', 'Date Added', 'Bookshelves', 'Bookshelves with positions',\n",
      "       'Exclusive Shelf', 'My Review', 'Spoiler', 'Private Notes',\n",
      "       'Read Count', 'Recommended For', 'Recommended By', 'Owned Copies',\n",
      "       'Original Purchase Date', 'Original Purchase Location', 'Condition',\n",
      "       'Condition Description', 'BCID'],\n",
      "      dtype='object')\n"
     ]
    }
   ],
   "source": [
    "#Understand how many data points and what is potentially contained within each point\n",
    "\n",
    "print('Number of data total data points: ', test_df.shape[0])\n",
    "print('Number of features for each data point: ', test_df.shape[1])\n",
    "print('')\n",
    "print('A list of all columns: ')\n",
    "print(test_df.columns)"
   ]
  },
  {
   "cell_type": "code",
   "execution_count": 3,
   "metadata": {},
   "outputs": [
    {
     "name": "stdout",
     "output_type": "stream",
     "text": [
      "Number of data total data points:  378\n"
     ]
    }
   ],
   "source": [
    "#Remove all entries w/ \"0\" in the \"My Rating\" field, these haven't been read/reviewed\n",
    "test_df.drop(test_df.loc[test_df['My Rating'] == 0].index, inplace=True)\n",
    "\n",
    "#Now, look at the new size of the dataset\n",
    "print('Number of data total data points: ', test_df.shape[0])\n"
   ]
  },
  {
   "cell_type": "code",
   "execution_count": 4,
   "metadata": {},
   "outputs": [
    {
     "data": {
      "text/html": [
       "<style  type=\"text/css\" >\n",
       "    #T_62fe5d24_b2df_11e8_be70_542696d8d493row0_col0 {\n",
       "            width:  10em;\n",
       "             height:  80%;\n",
       "            background:  linear-gradient(90deg,#5fba7d 100.0%, transparent 0%);\n",
       "        }    #T_62fe5d24_b2df_11e8_be70_542696d8d493row1_col0 {\n",
       "            width:  10em;\n",
       "             height:  80%;\n",
       "            background:  linear-gradient(90deg,#5fba7d 100.0%, transparent 0%);\n",
       "        }    #T_62fe5d24_b2df_11e8_be70_542696d8d493row2_col0 {\n",
       "            width:  10em;\n",
       "             height:  80%;\n",
       "            background:  linear-gradient(90deg,#5fba7d 100.0%, transparent 0%);\n",
       "        }    #T_62fe5d24_b2df_11e8_be70_542696d8d493row3_col0 {\n",
       "            width:  10em;\n",
       "             height:  80%;\n",
       "            background:  linear-gradient(90deg,#5fba7d 100.0%, transparent 0%);\n",
       "        }    #T_62fe5d24_b2df_11e8_be70_542696d8d493row4_col0 {\n",
       "            width:  10em;\n",
       "             height:  80%;\n",
       "            background:  linear-gradient(90deg,#5fba7d 40.2%, transparent 0%);\n",
       "        }    #T_62fe5d24_b2df_11e8_be70_542696d8d493row5_col0 {\n",
       "            width:  10em;\n",
       "             height:  80%;\n",
       "            background:  linear-gradient(90deg,#5fba7d 96.6%, transparent 0%);\n",
       "        }    #T_62fe5d24_b2df_11e8_be70_542696d8d493row6_col0 {\n",
       "            width:  10em;\n",
       "             height:  80%;\n",
       "            background:  linear-gradient(90deg,#5fba7d 96.8%, transparent 0%);\n",
       "        }    #T_62fe5d24_b2df_11e8_be70_542696d8d493row7_col0 {\n",
       "            width:  10em;\n",
       "             height:  80%;\n",
       "            background:  linear-gradient(90deg,#5fba7d 100.0%, transparent 0%);\n",
       "        }    #T_62fe5d24_b2df_11e8_be70_542696d8d493row8_col0 {\n",
       "            width:  10em;\n",
       "             height:  80%;\n",
       "            background:  linear-gradient(90deg,#5fba7d 100.0%, transparent 0%);\n",
       "        }    #T_62fe5d24_b2df_11e8_be70_542696d8d493row9_col0 {\n",
       "            width:  10em;\n",
       "             height:  80%;\n",
       "            background:  linear-gradient(90deg,#5fba7d 98.9%, transparent 0%);\n",
       "        }    #T_62fe5d24_b2df_11e8_be70_542696d8d493row10_col0 {\n",
       "            width:  10em;\n",
       "             height:  80%;\n",
       "            background:  linear-gradient(90deg,#5fba7d 99.7%, transparent 0%);\n",
       "        }    #T_62fe5d24_b2df_11e8_be70_542696d8d493row11_col0 {\n",
       "            width:  10em;\n",
       "             height:  80%;\n",
       "            background:  linear-gradient(90deg,#5fba7d 99.2%, transparent 0%);\n",
       "        }    #T_62fe5d24_b2df_11e8_be70_542696d8d493row12_col0 {\n",
       "            width:  10em;\n",
       "             height:  80%;\n",
       "            background:  linear-gradient(90deg,#5fba7d 99.5%, transparent 0%);\n",
       "        }    #T_62fe5d24_b2df_11e8_be70_542696d8d493row13_col0 {\n",
       "            width:  10em;\n",
       "             height:  80%;\n",
       "            background:  linear-gradient(90deg,#5fba7d 99.2%, transparent 0%);\n",
       "        }    #T_62fe5d24_b2df_11e8_be70_542696d8d493row14_col0 {\n",
       "            width:  10em;\n",
       "             height:  80%;\n",
       "            background:  linear-gradient(90deg,#5fba7d 48.7%, transparent 0%);\n",
       "        }    #T_62fe5d24_b2df_11e8_be70_542696d8d493row15_col0 {\n",
       "            width:  10em;\n",
       "             height:  80%;\n",
       "            background:  linear-gradient(90deg,#5fba7d 100.0%, transparent 0%);\n",
       "        }    #T_62fe5d24_b2df_11e8_be70_542696d8d493row16_col0 {\n",
       "            width:  10em;\n",
       "             height:  80%;\n",
       "            background:  linear-gradient(90deg,#5fba7d 37.0%, transparent 0%);\n",
       "        }    #T_62fe5d24_b2df_11e8_be70_542696d8d493row17_col0 {\n",
       "            width:  10em;\n",
       "             height:  80%;\n",
       "            background:  linear-gradient(90deg,#5fba7d 37.0%, transparent 0%);\n",
       "        }    #T_62fe5d24_b2df_11e8_be70_542696d8d493row18_col0 {\n",
       "            width:  10em;\n",
       "             height:  80%;\n",
       "            background:  linear-gradient(90deg,#5fba7d 100.0%, transparent 0%);\n",
       "        }    #T_62fe5d24_b2df_11e8_be70_542696d8d493row19_col0 {\n",
       "            width:  10em;\n",
       "             height:  80%;\n",
       "        }    #T_62fe5d24_b2df_11e8_be70_542696d8d493row20_col0 {\n",
       "            width:  10em;\n",
       "             height:  80%;\n",
       "        }    #T_62fe5d24_b2df_11e8_be70_542696d8d493row21_col0 {\n",
       "            width:  10em;\n",
       "             height:  80%;\n",
       "        }    #T_62fe5d24_b2df_11e8_be70_542696d8d493row22_col0 {\n",
       "            width:  10em;\n",
       "             height:  80%;\n",
       "            background:  linear-gradient(90deg,#5fba7d 99.5%, transparent 0%);\n",
       "        }    #T_62fe5d24_b2df_11e8_be70_542696d8d493row23_col0 {\n",
       "            width:  10em;\n",
       "             height:  80%;\n",
       "        }    #T_62fe5d24_b2df_11e8_be70_542696d8d493row24_col0 {\n",
       "            width:  10em;\n",
       "             height:  80%;\n",
       "        }    #T_62fe5d24_b2df_11e8_be70_542696d8d493row25_col0 {\n",
       "            width:  10em;\n",
       "             height:  80%;\n",
       "        }    #T_62fe5d24_b2df_11e8_be70_542696d8d493row26_col0 {\n",
       "            width:  10em;\n",
       "             height:  80%;\n",
       "        }    #T_62fe5d24_b2df_11e8_be70_542696d8d493row27_col0 {\n",
       "            width:  10em;\n",
       "             height:  80%;\n",
       "        }    #T_62fe5d24_b2df_11e8_be70_542696d8d493row28_col0 {\n",
       "            width:  10em;\n",
       "             height:  80%;\n",
       "        }    #T_62fe5d24_b2df_11e8_be70_542696d8d493row29_col0 {\n",
       "            width:  10em;\n",
       "             height:  80%;\n",
       "        }    #T_62fe5d24_b2df_11e8_be70_542696d8d493row30_col0 {\n",
       "            width:  10em;\n",
       "             height:  80%;\n",
       "        }</style>  \n",
       "<table id=\"T_62fe5d24_b2df_11e8_be70_542696d8d493\" > \n",
       "<thead>    <tr> \n",
       "        <th class=\"blank level0\" ></th> \n",
       "        <th class=\"col_heading level0 col0\" >Data Present (%)</th> \n",
       "    </tr></thead> \n",
       "<tbody>    <tr> \n",
       "        <th id=\"T_62fe5d24_b2df_11e8_be70_542696d8d493level0_row0\" class=\"row_heading level0 row0\" >Book Id</th> \n",
       "        <td id=\"T_62fe5d24_b2df_11e8_be70_542696d8d493row0_col0\" class=\"data row0 col0\" >100</td> \n",
       "    </tr>    <tr> \n",
       "        <th id=\"T_62fe5d24_b2df_11e8_be70_542696d8d493level0_row1\" class=\"row_heading level0 row1\" >Title</th> \n",
       "        <td id=\"T_62fe5d24_b2df_11e8_be70_542696d8d493row1_col0\" class=\"data row1 col0\" >100</td> \n",
       "    </tr>    <tr> \n",
       "        <th id=\"T_62fe5d24_b2df_11e8_be70_542696d8d493level0_row2\" class=\"row_heading level0 row2\" >Author</th> \n",
       "        <td id=\"T_62fe5d24_b2df_11e8_be70_542696d8d493row2_col0\" class=\"data row2 col0\" >100</td> \n",
       "    </tr>    <tr> \n",
       "        <th id=\"T_62fe5d24_b2df_11e8_be70_542696d8d493level0_row3\" class=\"row_heading level0 row3\" >Author l-f</th> \n",
       "        <td id=\"T_62fe5d24_b2df_11e8_be70_542696d8d493row3_col0\" class=\"data row3 col0\" >100</td> \n",
       "    </tr>    <tr> \n",
       "        <th id=\"T_62fe5d24_b2df_11e8_be70_542696d8d493level0_row4\" class=\"row_heading level0 row4\" >Additional Authors</th> \n",
       "        <td id=\"T_62fe5d24_b2df_11e8_be70_542696d8d493row4_col0\" class=\"data row4 col0\" >40.2116</td> \n",
       "    </tr>    <tr> \n",
       "        <th id=\"T_62fe5d24_b2df_11e8_be70_542696d8d493level0_row5\" class=\"row_heading level0 row5\" >ISBN</th> \n",
       "        <td id=\"T_62fe5d24_b2df_11e8_be70_542696d8d493row5_col0\" class=\"data row5 col0\" >96.5608</td> \n",
       "    </tr>    <tr> \n",
       "        <th id=\"T_62fe5d24_b2df_11e8_be70_542696d8d493level0_row6\" class=\"row_heading level0 row6\" >ISBN13</th> \n",
       "        <td id=\"T_62fe5d24_b2df_11e8_be70_542696d8d493row6_col0\" class=\"data row6 col0\" >96.8254</td> \n",
       "    </tr>    <tr> \n",
       "        <th id=\"T_62fe5d24_b2df_11e8_be70_542696d8d493level0_row7\" class=\"row_heading level0 row7\" >My Rating</th> \n",
       "        <td id=\"T_62fe5d24_b2df_11e8_be70_542696d8d493row7_col0\" class=\"data row7 col0\" >100</td> \n",
       "    </tr>    <tr> \n",
       "        <th id=\"T_62fe5d24_b2df_11e8_be70_542696d8d493level0_row8\" class=\"row_heading level0 row8\" >Average Rating</th> \n",
       "        <td id=\"T_62fe5d24_b2df_11e8_be70_542696d8d493row8_col0\" class=\"data row8 col0\" >100</td> \n",
       "    </tr>    <tr> \n",
       "        <th id=\"T_62fe5d24_b2df_11e8_be70_542696d8d493level0_row9\" class=\"row_heading level0 row9\" >Publisher</th> \n",
       "        <td id=\"T_62fe5d24_b2df_11e8_be70_542696d8d493row9_col0\" class=\"data row9 col0\" >98.9418</td> \n",
       "    </tr>    <tr> \n",
       "        <th id=\"T_62fe5d24_b2df_11e8_be70_542696d8d493level0_row10\" class=\"row_heading level0 row10\" >Binding</th> \n",
       "        <td id=\"T_62fe5d24_b2df_11e8_be70_542696d8d493row10_col0\" class=\"data row10 col0\" >99.7354</td> \n",
       "    </tr>    <tr> \n",
       "        <th id=\"T_62fe5d24_b2df_11e8_be70_542696d8d493level0_row11\" class=\"row_heading level0 row11\" >Number of Pages</th> \n",
       "        <td id=\"T_62fe5d24_b2df_11e8_be70_542696d8d493row11_col0\" class=\"data row11 col0\" >99.2063</td> \n",
       "    </tr>    <tr> \n",
       "        <th id=\"T_62fe5d24_b2df_11e8_be70_542696d8d493level0_row12\" class=\"row_heading level0 row12\" >Year Published</th> \n",
       "        <td id=\"T_62fe5d24_b2df_11e8_be70_542696d8d493row12_col0\" class=\"data row12 col0\" >99.4709</td> \n",
       "    </tr>    <tr> \n",
       "        <th id=\"T_62fe5d24_b2df_11e8_be70_542696d8d493level0_row13\" class=\"row_heading level0 row13\" >Original Publication Year</th> \n",
       "        <td id=\"T_62fe5d24_b2df_11e8_be70_542696d8d493row13_col0\" class=\"data row13 col0\" >99.2063</td> \n",
       "    </tr>    <tr> \n",
       "        <th id=\"T_62fe5d24_b2df_11e8_be70_542696d8d493level0_row14\" class=\"row_heading level0 row14\" >Date Read</th> \n",
       "        <td id=\"T_62fe5d24_b2df_11e8_be70_542696d8d493row14_col0\" class=\"data row14 col0\" >48.6772</td> \n",
       "    </tr>    <tr> \n",
       "        <th id=\"T_62fe5d24_b2df_11e8_be70_542696d8d493level0_row15\" class=\"row_heading level0 row15\" >Date Added</th> \n",
       "        <td id=\"T_62fe5d24_b2df_11e8_be70_542696d8d493row15_col0\" class=\"data row15 col0\" >100</td> \n",
       "    </tr>    <tr> \n",
       "        <th id=\"T_62fe5d24_b2df_11e8_be70_542696d8d493level0_row16\" class=\"row_heading level0 row16\" >Bookshelves</th> \n",
       "        <td id=\"T_62fe5d24_b2df_11e8_be70_542696d8d493row16_col0\" class=\"data row16 col0\" >37.037</td> \n",
       "    </tr>    <tr> \n",
       "        <th id=\"T_62fe5d24_b2df_11e8_be70_542696d8d493level0_row17\" class=\"row_heading level0 row17\" >Bookshelves with positions</th> \n",
       "        <td id=\"T_62fe5d24_b2df_11e8_be70_542696d8d493row17_col0\" class=\"data row17 col0\" >37.037</td> \n",
       "    </tr>    <tr> \n",
       "        <th id=\"T_62fe5d24_b2df_11e8_be70_542696d8d493level0_row18\" class=\"row_heading level0 row18\" >Exclusive Shelf</th> \n",
       "        <td id=\"T_62fe5d24_b2df_11e8_be70_542696d8d493row18_col0\" class=\"data row18 col0\" >100</td> \n",
       "    </tr>    <tr> \n",
       "        <th id=\"T_62fe5d24_b2df_11e8_be70_542696d8d493level0_row19\" class=\"row_heading level0 row19\" >My Review</th> \n",
       "        <td id=\"T_62fe5d24_b2df_11e8_be70_542696d8d493row19_col0\" class=\"data row19 col0\" >0</td> \n",
       "    </tr>    <tr> \n",
       "        <th id=\"T_62fe5d24_b2df_11e8_be70_542696d8d493level0_row20\" class=\"row_heading level0 row20\" >Spoiler</th> \n",
       "        <td id=\"T_62fe5d24_b2df_11e8_be70_542696d8d493row20_col0\" class=\"data row20 col0\" >0</td> \n",
       "    </tr>    <tr> \n",
       "        <th id=\"T_62fe5d24_b2df_11e8_be70_542696d8d493level0_row21\" class=\"row_heading level0 row21\" >Private Notes</th> \n",
       "        <td id=\"T_62fe5d24_b2df_11e8_be70_542696d8d493row21_col0\" class=\"data row21 col0\" >0</td> \n",
       "    </tr>    <tr> \n",
       "        <th id=\"T_62fe5d24_b2df_11e8_be70_542696d8d493level0_row22\" class=\"row_heading level0 row22\" >Read Count</th> \n",
       "        <td id=\"T_62fe5d24_b2df_11e8_be70_542696d8d493row22_col0\" class=\"data row22 col0\" >99.4709</td> \n",
       "    </tr>    <tr> \n",
       "        <th id=\"T_62fe5d24_b2df_11e8_be70_542696d8d493level0_row23\" class=\"row_heading level0 row23\" >Recommended For</th> \n",
       "        <td id=\"T_62fe5d24_b2df_11e8_be70_542696d8d493row23_col0\" class=\"data row23 col0\" >0</td> \n",
       "    </tr>    <tr> \n",
       "        <th id=\"T_62fe5d24_b2df_11e8_be70_542696d8d493level0_row24\" class=\"row_heading level0 row24\" >Recommended By</th> \n",
       "        <td id=\"T_62fe5d24_b2df_11e8_be70_542696d8d493row24_col0\" class=\"data row24 col0\" >0</td> \n",
       "    </tr>    <tr> \n",
       "        <th id=\"T_62fe5d24_b2df_11e8_be70_542696d8d493level0_row25\" class=\"row_heading level0 row25\" >Owned Copies</th> \n",
       "        <td id=\"T_62fe5d24_b2df_11e8_be70_542696d8d493row25_col0\" class=\"data row25 col0\" >0</td> \n",
       "    </tr>    <tr> \n",
       "        <th id=\"T_62fe5d24_b2df_11e8_be70_542696d8d493level0_row26\" class=\"row_heading level0 row26\" >Original Purchase Date</th> \n",
       "        <td id=\"T_62fe5d24_b2df_11e8_be70_542696d8d493row26_col0\" class=\"data row26 col0\" >0</td> \n",
       "    </tr>    <tr> \n",
       "        <th id=\"T_62fe5d24_b2df_11e8_be70_542696d8d493level0_row27\" class=\"row_heading level0 row27\" >Original Purchase Location</th> \n",
       "        <td id=\"T_62fe5d24_b2df_11e8_be70_542696d8d493row27_col0\" class=\"data row27 col0\" >0</td> \n",
       "    </tr>    <tr> \n",
       "        <th id=\"T_62fe5d24_b2df_11e8_be70_542696d8d493level0_row28\" class=\"row_heading level0 row28\" >Condition</th> \n",
       "        <td id=\"T_62fe5d24_b2df_11e8_be70_542696d8d493row28_col0\" class=\"data row28 col0\" >0</td> \n",
       "    </tr>    <tr> \n",
       "        <th id=\"T_62fe5d24_b2df_11e8_be70_542696d8d493level0_row29\" class=\"row_heading level0 row29\" >Condition Description</th> \n",
       "        <td id=\"T_62fe5d24_b2df_11e8_be70_542696d8d493row29_col0\" class=\"data row29 col0\" >0</td> \n",
       "    </tr>    <tr> \n",
       "        <th id=\"T_62fe5d24_b2df_11e8_be70_542696d8d493level0_row30\" class=\"row_heading level0 row30\" >BCID</th> \n",
       "        <td id=\"T_62fe5d24_b2df_11e8_be70_542696d8d493row30_col0\" class=\"data row30 col0\" >0</td> \n",
       "    </tr></tbody> \n",
       "</table> "
      ],
      "text/plain": [
       "<pandas.io.formats.style.Styler at 0x10ffebe80>"
      ]
     },
     "execution_count": 4,
     "metadata": {},
     "output_type": "execute_result"
    }
   ],
   "source": [
    "#Data looks pretty sparse. Show a histogram of the number of populated features\n",
    "\n",
    "#Replace all '0' wth null, they are the same here\n",
    "test_df.replace(to_replace=0, value=np.nan , inplace=True)\n",
    "test_df.head()\n",
    "\n",
    "percent_filled_cells = pd.DataFrame((test_df.notna().sum()/test_df.shape[0]*100), columns=['Data Present (%)'])\n",
    "\n",
    "percent_filled_cells.style.bar(color=['#5fba7d'])\n",
    "\n",
    "#Data cleaning - All entries whose fields contain 0% are eliminated\n",
    "test_df.drop(columns=percent_filled_cells.loc[percent_filled_cells['Data Present (%)'] < 1].index, inplace=True)\n",
    "\n",
    "percent_filled_cells_edited = pd.DataFrame((test_df.notna().sum()/test_df.shape[0]*100), columns=['Data Present (%)'])\n",
    "\n",
    "percent_filled_cells.style.bar(color=['#5fba7d'])\n",
    "\n"
   ]
  },
  {
   "cell_type": "markdown",
   "metadata": {},
   "source": [
    "### Misc Data Distribution\n"
   ]
  },
  {
   "cell_type": "code",
   "execution_count": 5,
   "metadata": {},
   "outputs": [
    {
     "data": {
      "image/png": "[encoded data removed]",
      "text/plain": [
       "<Figure size 1080x504 with 2 Axes>"
      ]
     },
     "metadata": {
      "needs_background": "light"
     },
     "output_type": "display_data"
    }
   ],
   "source": [
    "#Let's look at some at teh various statistucs about the books\n",
    "\n",
    "#When are the books published\n",
    "\n",
    "plt.figure(1, figsize=(15, 7))\n",
    "plt.subplot(121)\n",
    "plt.hist(test_df['Year Published'], bins=np.arange(test_df['Year Published'].min(), test_df['Year Published'].max(), 5))\n",
    "plt.xlabel('Year Published')\n",
    "plt.ylabel('Number of Books')\n",
    "\n",
    "plt.subplot(122)\n",
    "plt.hist(test_df.loc[test_df['Number of Pages'].notna()]['Number of Pages'])\n",
    "plt.xlabel('Number of Pages')\n",
    "plt.ylabel('Number of Books')\n",
    "\n",
    "\n",
    "plt.show()\n"
   ]
  },
  {
   "cell_type": "code",
   "execution_count": 29,
   "metadata": {},
   "outputs": [
    {
     "name": "stdout",
     "output_type": "stream",
     "text": [
      "Number of different authors of books rated present in the dataset: 167\n"
     ]
    }
   ],
   "source": [
    "print('Number of different authors of books rated present in the dataset:', pd.factorize(test_df['Author'])[1].size)"
   ]
  },
  {
   "cell_type": "markdown",
   "metadata": {},
   "source": [
    "### Ratings Data\n",
    "\n",
    "The following analysis investigates general trends regarding the books' ratings. Goodreads users rate books on a scale from 1-5 with increments of 1 (i.e., 1, 2, 3, 4, 5).\n",
    "\n",
    "First, the mean ratings for all books read by this user is shown. The ratings distribution appear to be Gaussian in nature with $\\mu=4.10$ and $\\sigma=0.25$. A Chi-squared test was performed to evaluate the goodness of fit of the Gaussian curve on the global ratings distribution data. The test yielded the following values: $\\chi^{2}=21.40$ and $p=0.9997$. In other words, the probability that our null hypothesis that this Gaussian function is a good fit for our data is correct is 99.97%. In layman terms, it seems to be a very good fit.\n",
    "\n",
    "In the same vein, we look at this particular users' ratings. Because the user is limited to only 5 different ratings (1,2,..5), the histogram takes on a more discretized appearance. A discussion with the user revealed that she tends to select books that she believes she will like, leading to the skew toward higher ratings. Again I tried to fit a Gaussian curve on the user's data. The Gaussian parameters were calculated as: $\\mu=4.42$ and $\\sigma=0.59$. A Chi-squared test was performed to evaluate the goodness of fit of the Gaussian curve on the user's ratings distribution data. The test yielded the following values: $\\chi^{2}=22.41$ and $p=0$. In other words, the probability that our null hypothesis that this Gaussian function is a good fit for our data is correct is ~0%. In layman terms, the Gaussian curve is a very bad fit for the user data. This is not surprising as there are too few bins (i.e. degrees of freedom in the Chi-squared test) to fit a Gaussian curve to the data with any statistical significance.\n",
    "\n"
   ]
  },
  {
   "cell_type": "code",
   "execution_count": 6,
   "metadata": {},
   "outputs": [
    {
     "name": "stdout",
     "output_type": "stream",
     "text": [
      "Chi Squared Test for global ratings of books\n",
      "Probability that the null hypothesis stating that global ratings are normally distributed: 0.999757\n",
      "Gaussian fit parameters: mean=4.103, standard deviation=0.2548\n",
      "\n",
      "Chi Squared Test for one user's ratings of books\n",
      "Probability that the null hypothesis stating that global ratings are normally distributed: 5.34449e-05\n",
      "Gaussian fit parameters: mean=4.423, standard deviation=0.5871\n"
     ]
    },
    {
     "data": {
      "image/png": "[encoded data removed]",
      "text/plain": [
       "<Figure size 1080x1008 with 2 Axes>"
      ]
     },
     "metadata": {
      "needs_background": "light"
     },
     "output_type": "display_data"
    }
   ],
   "source": [
    "#Global and User ratings distributions\n",
    "\n",
    "#Universal average ratings of the books\n",
    "plt.figure(1, figsize=(15, 14))\n",
    "plt.subplot(221)\n",
    "\n",
    "num_points = test_df['Average Rating'].shape[0]\n",
    "#Plot the histogram\n",
    "hist_bins = np.arange(0, 5.1, 0.1)\n",
    "actual_count, actual_bins, ignored = plt.hist(test_df['Average Rating'], bins = hist_bins)\n",
    "#Find a guassian fit to the distribution curve\n",
    "param = stats.norm.fit(test_df['Average Rating'])\n",
    "gprob = np.diff(stats.norm.cdf(actual_bins, loc=param[0], scale=param[1]))\n",
    "plt.plot(actual_bins[1:],gprob*num_points, 'r-')\n",
    "plt.xlim(0,5)\n",
    "plt.xlabel('Average Rating')\n",
    "plt.ylabel('Number of Books')\n",
    "\n",
    "#Performing a chi-squared test to see if the guassian fit is good\n",
    "gprob = np.diff(stats.norm.cdf(actual_bins, loc=param[0], scale=param[1]))\n",
    "plt.plot(actual_bins[1:],gprob*num_points, 'r-')\n",
    "nch, npval = stats.chisquare(actual_count, gprob*num_points)\n",
    "print('Chi Squared Test for global ratings of books')\n",
    "print('Probability that the null hypothesis stating that global ratings are normally distributed: {:.6}'.format(npval) )\n",
    "print('Gaussian fit parameters: mean={:.4}, standard deviation={:.4}'.format(param[0], param[1]))\n",
    "print('')\n",
    "\n",
    "#My ratings of books\n",
    "plt.subplot(222)\n",
    "my_bins = np.arange(1.5, 6.5, 1)\n",
    "actual_count_user, my_bins, ignored = plt.hist(test_df['My Rating'], bins=my_bins)\n",
    "plt.xlabel('My Rating')\n",
    "plt.ylabel('Number of Books')\n",
    "\n",
    "#Find a guassian fit on the user's ratings\n",
    "param_user = stats.norm.fit(test_df['My Rating'])\n",
    "gprob_user = np.diff(stats.norm.cdf(my_bins, loc=param_user[0], scale=param_user[1]))\n",
    "plt.plot(my_bins[1:],gprob_user*num_points, 'r-')\n",
    "#Perform a chi squared test to detemine goodness of fit of guassian on user's ratings\n",
    "nch_user, npval_user = stats.chisquare(actual_count_user, gprob_user*num_points)\n",
    "print('Chi Squared Test for one user\\'s ratings of books')\n",
    "print('Probability that the null hypothesis stating that global ratings are normally distributed: {:.6}'.format(npval_user) )\n",
    "print('Gaussian fit parameters: mean={:.4}, standard deviation={:.4}'.format(param_user[0], param_user[1]))\n"
   ]
  },
  {
   "cell_type": "markdown",
   "metadata": {},
   "source": [
    "## Optimizing Book Selection\n",
    "\n",
    "Ultimately the goal of this model is to optimize book selection. If we could build a model that accurately predicts a user's rating, then the model could be used to make book recommendations to our reader.\n",
    "\n",
    "The first and most obvious way to recommend books to the reader is by choosing books with high global ratings. Consequently, the analysis presented here first explores the relationship between the global ratings of a book and the user's ratings."
   ]
  },
  {
   "cell_type": "markdown",
   "metadata": {},
   "source": [
    "### Predicting User Rating using only Global Rating\n",
    "\n",
    "Intuition leads us to the following hypothesis: there is a positive relationship between a book's global ratings and a user's ratings.\n",
    "\n",
    "We first look at the joint distribution between these two variables. In general, the joint distribution seems to confirm our hypothesis. The books with User Rating of '5' were more likely to have a higher global rating when compared to books with a User Rating of '4'.\n",
    "\n",
    "To make this observation a little clearer, I show the conditional probability distribution functions. For both, a Gaussian curve was fitted to the distributions. The null hypothesis that the fitted curve is a good fit for the distributions is accepted with a probability > 99.99% for both. For books that received a user rating of 5, the global ratings had the following properties: $\\mu=4.21$ and $\\sigma=0.22$. Likewise, for books that received a user rating of 5, the global ratings had the following properties: $\\mu=4.04$ and $\\sigma=0.24$. The conclusions drawn from this analysis is that there is a clear trend between global ratings and this particular user's ratings.\n",
    "\n",
    "Finally, I investigate the use of a classifier to make suggestions to the user. The classifier is a binary classifier and will predict if the user's rating is either 5 or less than 5. At this stage in the analysis, the classifier only incorporates one feature input: book's global average rating. Prior to extensive calibration of the classifier, the accuracy of the classifier is approximately 57%. In other words, the classifier build can accurately predict whether a user will assign a '5' 57% of the time. The classifier's precision is 49% and the recall is 50%."
   ]
  },
  {
   "cell_type": "code",
   "execution_count": 7,
   "metadata": {},
   "outputs": [
    {
     "name": "stderr",
     "output_type": "stream",
     "text": [
      "/usr/local/lib/python3.7/site-packages/scipy/stats/stats.py:1713: FutureWarning: Using a non-tuple sequence for multidimensional indexing is deprecated; use `arr[tuple(seq)]` instead of `arr[seq]`. In the future this will be interpreted as an array index, `arr[np.array(seq)]`, which will result either in an error or a different result.\n",
      "  return np.add.reduce(sorted[indexer] * weights, axis=axis) / sumval\n"
     ]
    },
    {
     "data": {
      "image/png": "[encoded data removed]",
      "text/plain": [
       "<Figure size 432x432 with 3 Axes>"
      ]
     },
     "metadata": {
      "needs_background": "light"
     },
     "output_type": "display_data"
    }
   ],
   "source": [
    "#Create a series with the differece between the ratings\n",
    "diff_ratings = test_df['Average Rating']-test_df['My Rating']\n",
    "\n",
    "# diff_hist_bins = np.arange(-3, 3, 0.1)\n",
    "# plt.hist(diff_ratings, bins=diff_hist_bins)\n",
    "# plt.xlabel('Average Rating - My Rating')\n",
    "# plt.ylabel('Number of Books')\n",
    "\n",
    "# plt.show()\n",
    "\n",
    "#Show the joint distribution of average rating and user rating\n",
    "sns.jointplot(x='Average Rating', y='My Rating', data=test_df, kind=\"hex\")\n",
    "plt.show()\n"
   ]
  },
  {
   "cell_type": "code",
   "execution_count": 8,
   "metadata": {},
   "outputs": [
    {
     "name": "stdout",
     "output_type": "stream",
     "text": [
      "Chi Squared Test for User Rating = 5\n",
      "Probability that the null hypothesis stating that global ratings are normally distributed: 0.999977\n",
      "Gaussian fit parameters: mean=4.205, standard deviation=0.2158\n",
      "\n",
      "Chi Squared Test for User Rating = 4\n",
      "Probability that the null hypothesis stating that global ratings are normally distributed: 0.999949\n",
      "Gaussian fit parameters: mean=4.035, standard deviation=0.2372\n"
     ]
    },
    {
     "data": {
      "image/png": "[encoded data removed]",
      "text/plain": [
       "<Figure size 1080x504 with 2 Axes>"
      ]
     },
     "metadata": {
      "needs_background": "light"
     },
     "output_type": "display_data"
    }
   ],
   "source": [
    "#Show the condition probablilities of global ratings given the user ratings\n",
    "\n",
    "#Show the histogram of global ratings for user rating = 5\n",
    "plt.figure(1, figsize=(15, 7))\n",
    "plt.subplot(121)\n",
    "plt.xlabel('Average Rating')\n",
    "plt.ylabel('Observations')\n",
    "plt.title('Book Ratings for User Rating = 5')\n",
    "#Define the hist bins\n",
    "hist_bins = np.arange(0, 5.1, 0.1)\n",
    "#Define a series of average ratings where user rated as '5'\n",
    "cond_ratings_5 = test_df.loc[test_df['My Rating'] == 5]['Average Rating']\n",
    "#Fit a guassian curve and plot histogram and fitted curve\n",
    "actual_count, actual_bins, param_mean_5, param_std_5, nch_5, npval_5 = util.guass_fit_dist(cond_ratings_5, hist_bins = hist_bins)\n",
    "#Print guassian params and goodness of fit test results\n",
    "print('Chi Squared Test for User Rating = 5')\n",
    "print('Probability that the null hypothesis stating that global ratings are normally distributed: {:.6}'.format(npval_5) )\n",
    "print('Gaussian fit parameters: mean={:.4}, standard deviation={:.4}'.format(param_mean_5, param_std_5))\n",
    "print('')\n",
    "\n",
    "#Show the histogram of global ratings for user rating = 4\n",
    "plt.subplot(122)\n",
    "plt.xlabel('Average Rating')\n",
    "plt.ylabel('Observations')\n",
    "plt.title('Book Ratings for User Rating = 4')\n",
    "#Define a series of average ratings where user rated as '4'\n",
    "cond_ratings_4 = test_df.loc[test_df['My Rating'] == 4]['Average Rating']\n",
    "#Fit a guassian curve\n",
    "actual_count, actual_bins, param_mean_4, param_std_4, nch_4, npval_4 = util.guass_fit_dist(cond_ratings_4, hist_bins = hist_bins)\n",
    "#Print guassian params and goodness of fit test results\n",
    "print('Chi Squared Test for User Rating = 4')\n",
    "print('Probability that the null hypothesis stating that global ratings are normally distributed: {:.6}'.format(npval_4) )\n",
    "print('Gaussian fit parameters: mean={:.4}, standard deviation={:.4}'.format(param_mean_4, param_std_4))"
   ]
  },
  {
   "cell_type": "code",
   "execution_count": 9,
   "metadata": {},
   "outputs": [
    {
     "name": "stdout",
     "output_type": "stream",
     "text": [
      "Accuracy of model: 0.57\n",
      "Recall Score: 0.5\n",
      "Precision Score: 0.49\n"
     ]
    }
   ],
   "source": [
    "#Build a classifier to find books' ratings\n",
    "\n",
    "#Split the data into train/test data\n",
    "x_train, x_test, y_train, y_test = train_test_split(np.array(test_df['Average Rating']).reshape(-1, 1), np.array(test_df['My Rating']==5).reshape(-1, 1), test_size=0.25, random_state=1)\n",
    "#Build decision tree\n",
    "model = DecisionTreeClassifier()\n",
    "model.fit(x_train, y_train)\n",
    "y_hat = model.predict(x_test)\n",
    "print('Accuracy of model: {:.2}'.format(model.score(x_test, y_test)))\n",
    "print('Recall Score: {:.2}'.format(recall_score(y_test,y_hat)))\n",
    "print('Precision Score: {:.2}'.format(precision_score(y_test,y_hat)))"
   ]
  },
  {
   "cell_type": "markdown",
   "metadata": {},
   "source": [
    "### Expanding features\n"
   ]
  },
  {
   "cell_type": "code",
   "execution_count": null,
   "metadata": {},
   "outputs": [],
   "source": []
  }
 ],
 "metadata": {
  "kernelspec": {
   "display_name": "Python 3",
   "language": "python",
   "name": "python3"
  },
  "language_info": {
   "codemirror_mode": {
    "name": "ipython",
    "version": 3
   },
   "file_extension": ".py",
   "mimetype": "text/x-python",
   "name": "python",
   "nbconvert_exporter": "python",
   "pygments_lexer": "ipython3",
   "version": "3.7.0"
  },
  "toc": {
   "base_numbering": 1,
   "nav_menu": {},
   "number_sections": true,
   "sideBar": true,
   "skip_h1_title": false,
   "title_cell": "Table of Contents",
   "title_sidebar": "Contents",
   "toc_cell": false,
   "toc_position": {
    "height": "calc(100% - 180px)",
    "left": "10px",
    "top": "150px",
    "width": "165px"
   },
   "toc_section_display": true,
   "toc_window_display": true
  },
  "varInspector": {
   "cols": {
    "lenName": 16,
    "lenType": 16,
    "lenVar": 40
   },
   "kernels_config": {
    "python": {
     "delete_cmd_postfix": "",
     "delete_cmd_prefix": "del ",
     "library": "var_list.py",
     "varRefreshCmd": "print(var_dic_list())"
    },
    "r": {
     "delete_cmd_postfix": ") ",
     "delete_cmd_prefix": "rm(",
     "library": "var_list.r",
     "varRefreshCmd": "cat(var_dic_list()) "
    }
   },
   "types_to_exclude": [
    "module",
    "function",
    "builtin_function_or_method",
    "instance",
    "_Feature"
   ],
   "window_display": false
  }
 },
 "nbformat": 4,
 "nbformat_minor": 2
}
